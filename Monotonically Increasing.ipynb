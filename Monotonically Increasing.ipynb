{
 "cells": [
  {
   "cell_type": "code",
   "execution_count": 1,
   "id": "325d5884",
   "metadata": {},
   "outputs": [
    {
     "name": "stdout",
     "output_type": "stream",
     "text": [
      "3 3\n"
     ]
    }
   ],
   "source": [
    "N, M = map(int, input().split())"
   ]
  },
  {
   "cell_type": "code",
   "execution_count": 12,
   "id": "bafd69aa",
   "metadata": {},
   "outputs": [
    {
     "name": "stdout",
     "output_type": "stream",
     "text": [
      "3 3\n"
     ]
    }
   ],
   "source": [
    "N, M = (input().split())"
   ]
  },
  {
   "cell_type": "code",
   "execution_count": 14,
   "id": "102048e3",
   "metadata": {},
   "outputs": [
    {
     "name": "stdout",
     "output_type": "stream",
     "text": [
      "3 3\n"
     ]
    }
   ],
   "source": [
    "N, M = (int(x) for x in input().split())"
   ]
  },
  {
   "cell_type": "code",
   "execution_count": 15,
   "id": "ea318a94",
   "metadata": {},
   "outputs": [
    {
     "name": "stdout",
     "output_type": "stream",
     "text": [
      "a\n",
      "3 3\n",
      "3\n",
      "2\n",
      "1\n",
      "end\n"
     ]
    }
   ],
   "source": [
    "print(\"a\")\n",
    "N, M = (int(x) for x in input().split())\n",
    "\n",
    "def f(N, M):\n",
    "    if N == 0:\n",
    "        print(\"end\")\n",
    "    else:\n",
    "        print(N)\n",
    "        f(N-1, M)\n",
    "\n",
    "f(N, M)"
   ]
  },
  {
   "cell_type": "code",
   "execution_count": 132,
   "id": "9961b4f8",
   "metadata": {},
   "outputs": [
    {
     "name": "stdout",
     "output_type": "stream",
     "text": [
      "2 3\n",
      "1 2\n",
      "1 3\n",
      "2 3\n"
     ]
    }
   ],
   "source": [
    "#Nの数だけ並べる\n",
    "N, M = (int(x) for x in input().split())\n",
    "L = []\n",
    "n = N\n",
    "\n",
    "def f(N, L, M): #桁数、今のlist ,最大値\n",
    "    #print(\"呼び出し直後\",N)\n",
    "    #print(\"L\",L)\n",
    "    if(N == len(L)):\n",
    "        #すべての桁数を入力終了\n",
    "        flag=0\n",
    "        #print(\"N=\",N)\n",
    "        for i in range(0, N-1):\n",
    "            if L[i] >= L[i+1]:\n",
    "              #  print(\"OK\")\n",
    "            #else:\n",
    "               # print(\"break\")\n",
    "                flag=1\n",
    "                break        \n",
    "        #単調増加であることを確認N[0]<N[1]<N[2]... True なら　print(*N)\n",
    "        if flag == 0:\n",
    "            print(*L)\n",
    "        L.pop()\n",
    "       # print(\"pop\")\n",
    "       # print(L)\n",
    "        return L\n",
    "    else:\n",
    "        for i in range(1, M+1):\n",
    "            L.append(i)\n",
    "            L=f(N, L, M)\n",
    "           # print(type(L))\n",
    "        if len(L) != 0:\n",
    "            L.pop()\n",
    "       # print(\"桁周回終わりのL＝\",L)\n",
    "        return L\n",
    "\n",
    "#print(\"first\",end=\"\")\n",
    "#print(N)\n",
    "a =  f(N, L, M)            \n",
    "            \n",
    "            \n",
    "#\n",
    "#"
   ]
  },
  {
   "cell_type": "code",
   "execution_count": 107,
   "id": "696a6663",
   "metadata": {},
   "outputs": [],
   "source": [
    "def ff(b):\n",
    "    return b\n",
    "b=[1,2]\n",
    "b = ff(b)"
   ]
  },
  {
   "cell_type": "code",
   "execution_count": 115,
   "id": "43e78b94",
   "metadata": {},
   "outputs": [
    {
     "name": "stdout",
     "output_type": "stream",
     "text": [
      "<class 'list'>\n",
      "1 2\n",
      "<class 'list'>\n"
     ]
    }
   ],
   "source": [
    "b=[1,2]\n",
    "print(type(b))\n",
    "\n",
    "print(*b)\n",
    "print(type(b))"
   ]
  },
  {
   "cell_type": "code",
   "execution_count": 30,
   "id": "f322f5b8",
   "metadata": {},
   "outputs": [
    {
     "name": "stdout",
     "output_type": "stream",
     "text": [
      "1 2\n"
     ]
    }
   ],
   "source": [
    "#Nの数だけ並べる\n",
    "N, M = (int(x) for x in input().split())\n",
    "L = []\n",
    "for i in range(0, N):\n",
    "    L.append(0)\n",
    "\n",
    "def f(N, L, M): #桁数、今のlist ,最大値\n",
    "    if(n == 0):\n",
    "#すべての桁数を入力終了\n",
    "#単調増加であることを確認N[0]<N[1]<N[2]... True なら　print(*N)\n",
    "        print(*L)\n",
    "    else:\n",
    "        for i in range(1, M):\n",
    "            L.append(i)\n",
    "            f(N-1, L, M)\n",
    "            \n",
    "            \n",
    "            \n",
    "            \n",
    "#\n",
    "#"
   ]
  },
  {
   "cell_type": "code",
   "execution_count": 39,
   "id": "7e89741c",
   "metadata": {},
   "outputs": [
    {
     "name": "stdout",
     "output_type": "stream",
     "text": [
      "3 3\n"
     ]
    }
   ],
   "source": [
    "N, M = (int(x) for x in input().split())\n",
    "L = []\n",
    "for i in range(0, N):\n",
    "    L.append(0)"
   ]
  },
  {
   "cell_type": "code",
   "execution_count": 64,
   "id": "8bd359c8",
   "metadata": {},
   "outputs": [
    {
     "name": "stdout",
     "output_type": "stream",
     "text": [
      "OK\n",
      "bread\n"
     ]
    }
   ],
   "source": [
    "L = [1, 4, 3, 4, 5]\n",
    "N = 5\n",
    "\n",
    "for i in range(0, N-1):\n",
    "    flag=0\n",
    "    if L[i] < L[i+1]:\n",
    "        print(\"OK\")\n",
    "    else:\n",
    "        print(\"break\")\n",
    "        flag=1\n",
    "        break\n",
    "#すべての桁数を入力終了\n",
    "#単調増加であることを確認N[0]<N[1]<N[2]... True なら　print(*N)\n",
    "if flag == 0:\n",
    "    print(*L)"
   ]
  },
  {
   "cell_type": "code",
   "execution_count": 56,
   "id": "609112af",
   "metadata": {},
   "outputs": [
    {
     "data": {
      "text/plain": [
       "3"
      ]
     },
     "execution_count": 56,
     "metadata": {},
     "output_type": "execute_result"
    }
   ],
   "source": [
    "L[2]"
   ]
  },
  {
   "cell_type": "code",
   "execution_count": 25,
   "id": "ee50031a",
   "metadata": {},
   "outputs": [
    {
     "name": "stdout",
     "output_type": "stream",
     "text": [
      "1 2\n"
     ]
    }
   ],
   "source": [
    "print(*N)"
   ]
  },
  {
   "cell_type": "code",
   "execution_count": 37,
   "id": "6e362642",
   "metadata": {},
   "outputs": [],
   "source": [
    "L[0]=L[0]+1\n"
   ]
  },
  {
   "cell_type": "code",
   "execution_count": 38,
   "id": "5744b229",
   "metadata": {},
   "outputs": [
    {
     "data": {
      "text/plain": [
       "[2]"
      ]
     },
     "execution_count": 38,
     "metadata": {},
     "output_type": "execute_result"
    }
   ],
   "source": [
    "L"
   ]
  },
  {
   "cell_type": "code",
   "execution_count": 133,
   "id": "9dcae74f",
   "metadata": {},
   "outputs": [
    {
     "name": "stdout",
     "output_type": "stream",
     "text": [
      "2 3\n",
      "1 2\n",
      "1 3\n",
      "2 3\n"
     ]
    }
   ],
   "source": [
    "#Nの数だけ並べる\n",
    "N, M = (int(x) for x in input().split())\n",
    "L = []\n",
    "n = N\n",
    "\n",
    "def f(N, L, M, I): #桁数、今のlist ,最大値 , 直前に入力した値\n",
    "    #print(\"呼び出し直後\",N)\n",
    "    #print(\"L\",L)\n",
    "    if(N == len(L)):\n",
    "        #すべての桁数を入力終了\n",
    "        flag=0\n",
    "        #print(\"N=\",N)\n",
    "        for i in range(0, N-1):\n",
    "            if L[i] >= L[i+1]:\n",
    "              #  print(\"OK\")\n",
    "            #else:\n",
    "               # print(\"break\")\n",
    "                flag=1\n",
    "                break        \n",
    "        #単調増加であることを確認N[0]<N[1]<N[2]... True なら　print(*N)\n",
    "        if flag == 0:\n",
    "            print(*L)\n",
    "        L.pop()\n",
    "       # print(\"pop\")\n",
    "       # print(L)\n",
    "        return L\n",
    "    else:\n",
    "        for i in range(I+1, M+1):\n",
    "            L.append(i)\n",
    "            L=f(N, L, M, i)\n",
    "           # print(type(L))\n",
    "        if len(L) != 0:\n",
    "            L.pop()\n",
    "       # print(\"桁周回終わりのL＝\",L)\n",
    "        return L\n",
    "\n",
    "#print(\"first\",end=\"\")\n",
    "#print(N)\n",
    "a =  f(N, L, M, 0)            \n",
    "        "
   ]
  },
  {
   "cell_type": "code",
   "execution_count": null,
   "id": "56055f5e",
   "metadata": {},
   "outputs": [],
   "source": []
  }
 ],
 "metadata": {
  "kernelspec": {
   "display_name": "Python 3",
   "language": "python",
   "name": "python3"
  },
  "language_info": {
   "codemirror_mode": {
    "name": "ipython",
    "version": 3
   },
   "file_extension": ".py",
   "mimetype": "text/x-python",
   "name": "python",
   "nbconvert_exporter": "python",
   "pygments_lexer": "ipython3",
   "version": "3.8.8"
  }
 },
 "nbformat": 4,
 "nbformat_minor": 5
}
